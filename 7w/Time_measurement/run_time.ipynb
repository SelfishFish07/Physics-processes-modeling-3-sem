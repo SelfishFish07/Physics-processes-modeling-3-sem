{
 "cells": [
  {
   "cell_type": "code",
   "execution_count": 1,
   "id": "3771b4a4",
   "metadata": {},
   "outputs": [],
   "source": [
    "import json\n",
    "import subprocess\n",
    "import numpy as np\n",
    "import matplotlib.pyplot as plt\n",
    "from scipy.special import ellipk, ellipj\n",
    "from pathlib import Path\n",
    "import time"
   ]
  },
  {
   "cell_type": "markdown",
   "id": "45902e66",
   "metadata": {},
   "source": [
    "Comparing execution time"
   ]
  },
  {
   "cell_type": "code",
   "execution_count": 9,
   "id": "e62c47dd",
   "metadata": {},
   "outputs": [],
   "source": [
    "w=5\n",
    "k=0.1\n",
    "dt=0.001\n",
    "steps=10000000\n",
    "x0=np.radians(10)\n",
    "v0=0\n",
    "current_dir = current_dir = Path.cwd()\n",
    "\n",
    "config = {\n",
    "    \"dt\": dt,\n",
    "    \"x0\": x0,\n",
    "    \"v0\": v0,\n",
    "    \"w\": w,\n",
    "    \"k\": k,\n",
    "    \"steps\": steps,\n",
    "    \"output_path\": current_dir/\"time.txt\",\n",
    "}\n"
   ]
  },
  {
   "cell_type": "code",
   "execution_count": 3,
   "id": "8487c25b",
   "metadata": {},
   "outputs": [],
   "source": [
    "def f(x, v):\n",
    "    return (v,-(w*w*x+2*k*v))\n",
    "\n",
    "def rk4(t,x,v):\n",
    "\n",
    "    for i in range(int(steps)):\n",
    "        k1_x = f(x[i],v[i])[0]\n",
    "        k1_v = f(x[i],v[i])[1]\n",
    "\n",
    "        k2_x = f(x[i] + dt / 2 * k1_x,v[i] + dt / 2 * k1_v)[0]\n",
    "        k2_v = f(x[i] + dt / 2 * k1_x,v[i] + dt / 2 * k1_v)[1]\n",
    "\n",
    "        k3_x = f(x[i] + dt / 2 * k2_x,v[i] + dt / 2 * k2_v)[0]\n",
    "        k3_v = f(x[i] + dt / 2 * k2_x,v[i] + dt / 2 * k2_v)[1]\n",
    "\n",
    "        k4_x = f(x[i] + dt * k3_x,v[i] + dt * k3_v)[0]\n",
    "        k4_v = f(x[i] + dt * k3_x,v[i] + dt * k3_v)[1]\n",
    "\n",
    "        x.append(x[i] + dt / 6 * (k1_x + 2 * k2_x + 2 * k3_x + k4_x))\n",
    "        v.append(v[i] + dt / 6 * (k1_v + 2 * k2_v + 2 * k3_v + k4_v))\n",
    "        t.append((i + 1) * dt)\n",
    "\n",
    "t=[0]\n",
    "x=[x0]\n",
    "v=[v0]\n",
    "\n",
    "st = time.time()\n",
    "rk4(t,x,v)\n",
    "et = time.time()\n",
    "\n",
    "elapsed_time = et - st"
   ]
  },
  {
   "cell_type": "code",
   "execution_count": 12,
   "id": "50c92734",
   "metadata": {},
   "outputs": [
    {
     "name": "stdout",
     "output_type": "stream",
     "text": [
      "exe_path: /workspaces/Physics-processes-modeling-3-sem/7w/Time_measurement/time\n",
      "config_path: /workspaces/Physics-processes-modeling-3-sem/7w/Time_measurement/config.json\n"
     ]
    }
   ],
   "source": [
    "\n",
    "exe_path = current_dir / \"time\"\n",
    "config_path = current_dir / \"config.json\"\n",
    "\n",
    "print(\"exe_path:\", exe_path)\n",
    "print(\"config_path:\", config_path)\n",
    "\n",
    "config[\"output_path\"] = str(config[\"output_path\"])\n",
    "\n",
    "with open(config_path, \"w\") as f:\n",
    "    json.dump(config, f, indent=4)\n",
    "\n",
    "subprocess.run([str(exe_path), str(config_path)], check=True)\n",
    "data_rk4 = np.loadtxt(config[\"output_path\"])\n",
    "timing=data_rk4"
   ]
  },
  {
   "cell_type": "code",
   "execution_count": 14,
   "id": "b9026ed0",
   "metadata": {},
   "outputs": [
    {
     "name": "stdout",
     "output_type": "stream",
     "text": [
      "Execution time in Python: 60.593289613723755 seconds\n",
      "Execution time in C++: 2.58067 seconds\n"
     ]
    }
   ],
   "source": [
    "print('Execution time in Python:', elapsed_time, 'seconds')\n",
    "print('Execution time in C++:', timing/1000, 'seconds')"
   ]
  }
 ],
 "metadata": {
  "kernelspec": {
   "display_name": "Python 3",
   "language": "python",
   "name": "python3"
  },
  "language_info": {
   "codemirror_mode": {
    "name": "ipython",
    "version": 3
   },
   "file_extension": ".py",
   "mimetype": "text/x-python",
   "name": "python",
   "nbconvert_exporter": "python",
   "pygments_lexer": "ipython3",
   "version": "3.12.1"
  }
 },
 "nbformat": 4,
 "nbformat_minor": 5
}
